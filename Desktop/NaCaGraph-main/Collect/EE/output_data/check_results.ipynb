{
 "cells": [
  {
   "cell_type": "code",
   "execution_count": 1,
   "id": "b7298ab4",
   "metadata": {},
   "outputs": [],
   "source": [
    "import os\n",
    "import glob\n",
    "import dill as pickle"
   ]
  },
  {
   "cell_type": "code",
   "execution_count": 2,
   "id": "2de7bcae",
   "metadata": {},
   "outputs": [
    {
     "data": {
      "text/plain": [
       "['./wikinews_forest_fire_events.p',\n",
       " './wikinews_wildfire_events.p',\n",
       " './wikinews_earthquake_events.p',\n",
       " './wikinews_drought_events.p',\n",
       " './wikinews_climate_change_events.p',\n",
       " './wikinews_high_temperature_events.p',\n",
       " './wikinews_greenhouse_events.p']"
      ]
     },
     "execution_count": 2,
     "metadata": {},
     "output_type": "execute_result"
    }
   ],
   "source": [
    "def listdir_nohidden(path):\n",
    "    return glob.glob(os.path.join(path, '*.p'))\n",
    "\n",
    "output_files = listdir_nohidden('./')\n",
    "output_files"
   ]
  },
  {
   "cell_type": "code",
   "execution_count": 3,
   "id": "7de8f2eb",
   "metadata": {},
   "outputs": [
    {
     "name": "stdout",
     "output_type": "stream",
     "text": [
      "81\n",
      "100\n",
      "99\n",
      "100\n",
      "99\n",
      "99\n",
      "97\n"
     ]
    }
   ],
   "source": [
    "for filename in output_files:\n",
    "    results = pickle.load(open(filename, 'rb'))\n",
    "    print(len(results))\n",
    "#     print(results.keys())"
   ]
  },
  {
   "cell_type": "code",
   "execution_count": null,
   "id": "5396abe0",
   "metadata": {},
   "outputs": [],
   "source": []
  },
  {
   "cell_type": "code",
   "execution_count": null,
   "id": "662029ae",
   "metadata": {},
   "outputs": [],
   "source": []
  },
  {
   "cell_type": "code",
   "execution_count": null,
   "id": "ca5b22d4",
   "metadata": {},
   "outputs": [],
   "source": []
  }
 ],
 "metadata": {
  "kernelspec": {
   "display_name": "Python 3 (ipykernel)",
   "language": "python",
   "name": "python3"
  },
  "language_info": {
   "codemirror_mode": {
    "name": "ipython",
    "version": 3
   },
   "file_extension": ".py",
   "mimetype": "text/x-python",
   "name": "python",
   "nbconvert_exporter": "python",
   "pygments_lexer": "ipython3",
   "version": "3.10.8"
  }
 },
 "nbformat": 4,
 "nbformat_minor": 5
}
